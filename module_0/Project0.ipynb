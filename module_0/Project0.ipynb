{
 "cells": [
  {
   "cell_type": "markdown",
   "metadata": {},
   "source": [
    "# \"Проект 0. GitHub. Самый быстрый старт.\" Итоговое задание\n",
    "## Игра \"угадай число!\"\n",
    "Угадываем загаданное компьютером число за минимальное число попыток. Наиболее оптимальным, с точки зрения кол-ва попыток, выглядит метод бинарного поиска. Без читерства и без специальных знаний о генерации псевдослучайных чисел в Python уменшьить кол-во попыток можно только для заранее заданх диапазонов и более сложными алгоритмами (игра \"Быки и коровы\"), тогда как метод бинарного поиска всегда работает просто, надежно и понятно."
   ]
  },
  {
   "cell_type": "code",
   "execution_count": 478,
   "metadata": {},
   "outputs": [
    {
     "name": "stdout",
     "output_type": "stream",
     "text": [
      "Ваш алгоритм угадывает число в среднем за 5 попыток\n"
     ]
    },
    {
     "data": {
      "text/plain": [
       "5"
      ]
     },
     "execution_count": 478,
     "metadata": {},
     "output_type": "execute_result"
    }
   ],
   "source": [
    "import numpy as np\n",
    "\n",
    "max_value = 100 #Задаем максимальное значение дипазона, в пределах которго будет загадано число.\n",
    "\n",
    "\n",
    "def game_core_v4(number):\n",
    "    '''Угадывание методом бинарного поиска. Находим середину диапазона и смотрим в какой половине диапазона находится загаданное \n",
    "    число. Изменяем нижнюю или верхнюю границу диапазона на серидину. Повторяем'''\n",
    "    count = 0\n",
    "    left = 0\n",
    "    right = max_value\n",
    "    mid = 0\n",
    "    while number != mid:\n",
    "        count+=1\n",
    "        mid = left + (right-left)//2\n",
    "        if mid > number:\n",
    "            right = mid - 1 # т.к. уже известно, что mid - не наше загаданное число, то границу можно сместить на -1 \n",
    "        else:\n",
    "            left = mid + 1 #аналогично, но смещаем на +1\n",
    "    return(count) # выход из цикла, если угадали\n",
    "\n",
    "\n",
    "def score_game(game_core):\n",
    "    '''Запускаем игру 1000 раз, чтобы узнать, как быстро игра угадывает число'''\n",
    "    count_ls = []\n",
    "    np.random.seed() #НЕфиксируем SEED, воспроизводимость обеспечиваем размером массива >= 1000. Отклонения - 1 результат из 1000.\n",
    "    random_array = np.random.randint(1, max_value+1, size=(1000)) \n",
    "    for number in random_array:\n",
    "        count_ls.append(game_core(number))\n",
    "    score = int(np.mean(count_ls))\n",
    "    print(f\"Ваш алгоритм угадывает число в среднем за {score} попыток\")\n",
    "    return(score)\n",
    "\n",
    "score_game(game_core_v4)"
   ]
  },
  {
   "cell_type": "code",
   "execution_count": null,
   "metadata": {},
   "outputs": [],
   "source": []
  }
 ],
 "metadata": {
  "kernelspec": {
   "display_name": "Python 3",
   "language": "python",
   "name": "python3"
  },
  "language_info": {
   "codemirror_mode": {
    "name": "ipython",
    "version": 3
   },
   "file_extension": ".py",
   "mimetype": "text/x-python",
   "name": "python",
   "nbconvert_exporter": "python",
   "pygments_lexer": "ipython3",
   "version": "3.8.3"
  }
 },
 "nbformat": 4,
 "nbformat_minor": 4
}
